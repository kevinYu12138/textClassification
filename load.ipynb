{
 "cells": [
  {
   "cell_type": "code",
   "execution_count": 1,
   "outputs": [
    {
     "name": "stdout",
     "output_type": "stream",
     "text": [
      "(3387, 3)\n"
     ]
    }
   ],
   "source": [
    "import spacy\n",
    "from sklearn.datasets import fetch_20newsgroups\n",
    "import pandas as pd\n",
    "from nltk.stem import PorterStemmer,LancasterStemmer\n",
    "import re\n",
    "from tqdm import tqdm\n",
    "from sklearn.model_selection import train_test_split\n",
    "from sklearn.feature_extraction.text import TfidfVectorizer\n",
    "\n",
    "# 加载数据\n",
    "categories = ['alt.atheism', 'talk.religion.misc', 'comp.graphics', 'sci.space']\n",
    "remove = ('headers', 'footers', 'quotes')\n",
    "data = fetch_20newsgroups(subset='all', categories=categories, remove=remove, shuffle=True,random_state=2021)\n",
    "label2name = {i: x for i, x in enumerate(data.target_names)}\n",
    "name2label = {x: i for i, x in enumerate(data.target_names)}\n",
    "df = pd.DataFrame({'label_name':data.target, 'label':data.target, 'text':data.data})\n",
    "# print(df[:5])\n",
    "df['label_name'] = df['label_name'].map(label2name)\n",
    "# print(df[:5])\n",
    "print(df.shape)"
   ],
   "metadata": {
    "collapsed": false,
    "pycharm": {
     "name": "#%%\n"
    }
   }
  },
  {
   "cell_type": "code",
   "execution_count": 2,
   "outputs": [
    {
     "name": "stderr",
     "output_type": "stream",
     "text": [
      "100%|██████████| 3387/3387 [00:00<00:00, 6175.17it/s]"
     ]
    },
    {
     "name": "stdout",
     "output_type": "stream",
     "text": [
      "3387 3387\n"
     ]
    },
    {
     "name": "stderr",
     "output_type": "stream",
     "text": [
      "\n"
     ]
    }
   ],
   "source": [
    "# 文本清洗\n",
    "option = 'none'  # Speed: 'none'>'stem'>'lemma'\n",
    "class TextCleaner(object):\n",
    "    d1 = \"We're having a.b.c.d or i.e. u.s.a and 16.2 and U.K. and others.\"\n",
    "    d2 = \"We buy 12 apples, good apples, from Ms. ABC at 16.2 dollars/pound 24/7 from Monday-Friday. How's that?\"\n",
    "    d3 = \"1. I won't eat 1/12 of the #1 top cakes. I got 1.2 dollars or 1.2usd and a long-term/short-term goal\"\n",
    "    d4 = \"I lost 22 pounds at 9:30, 11:05 or 1:30pm or 2pm or 3pm or 1-2pm on 2016-01-02 or 01-02-2016.\"\n",
    "    d5 = \"  --He's a dedicated person. \\t He dedicated his time to work! \\n --are you sure?\"\n",
    "    d6 = \"I am interested in these interesting things that interested me.\"\n",
    "    sample_docs = [d1, d2, d3, d4, d5, d6]\n",
    "\n",
    "    def __init__(self, option='none'):\n",
    "        self.option = option\n",
    "        self.nlp = spacy.load('en_core_web_sm')\n",
    "        self.stemmer = PorterStemmer()\n",
    "\n",
    "    def lemmatize(self, text):\n",
    "        tuples = [(str(token), token.lemma_) for token in self.nlp(text)]\n",
    "        text = ' '.join([lemma if lemma != '-PRON-' else token for token, lemma in tuples])\n",
    "        text = re.sub(' ([_-]) ', '\\\\1', text)  # 'short - term' -> 'short-term'\n",
    "        return text\n",
    "\n",
    "    def text_cleanner(self, text):\n",
    "        stopwords = set(['i', 'I', 'you', 'he', 'she', 'it', 'we', 'they', 'am', 'is', 'are'])\n",
    "        text = text.lower()  # 1.lower strings\n",
    "        text = text.replace(\"'s\", 's')  # 2.handle contractions\n",
    "        text = re.sub('([a-zA-Z])\\\\.([a-zA-Z])\\\\.*', '\\\\1\\\\2', text)  # 3. handle abbreviations\n",
    "        text = re.sub('\\\\d+', '', text)  # 4. handle numbers\n",
    "        text = re.sub('[^a-zA-Z0-9\\\\s_-]', ' ', text)  # 5. remove punctuations\n",
    "        if 'lemma' in self.option:\n",
    "            text = self.lemmatize(text)  # 6. perform lemmatization\n",
    "        elif 'stem' in self.option:\n",
    "            text = ' '.join(self.stemmer.stem(x) for x in text.split(' '))  # 6. perform stemming\n",
    "        text = ' '.join(x for x in text.split(' ') if\n",
    "                        x not in stopwords)  # 7. remove stopwords(stopwords类型是set而不是list，因为set的查找速度更快)\n",
    "        text = ' '.join(x.strip('_-') for x in text.split())  # 8. remove spaces,'_' and '-'\n",
    "        return text\n",
    "\n",
    "    def transform(self, docs):  # transformer必须要有fit()和transform(）方法\n",
    "        clean_docs = []\n",
    "        self.fails = []\n",
    "        for doc in tqdm(docs):\n",
    "            try:\n",
    "                clean_docs.append(self.text_cleanner(doc))\n",
    "            except:\n",
    "                self.fails.append(doc)\n",
    "        if len(self.fails) > 0:\n",
    "            print(\"Some documents failed to be converted. Check self.fails for failed documents\")\n",
    "        return clean_docs\n",
    "\n",
    "    def fit(self, docs, y=None):\n",
    "        return self\n",
    "\n",
    "    def fit_transform(self, docs, y=None):\n",
    "        return self.fit(docs,y).transform(docs)\n",
    "\n",
    "cleaner = TextCleaner(option=option)\n",
    "# print(df['text'])\n",
    "x = cleaner.transform(df['text'])\n",
    "y = df['label'].astype('int16').to_list()\n",
    "print(len(x), len(y))\n",
    "# print(x[:5])"
   ],
   "metadata": {
    "collapsed": false,
    "pycharm": {
     "name": "#%%\n"
    }
   }
  },
  {
   "cell_type": "code",
   "execution_count": 3,
   "outputs": [
    {
     "name": "stdout",
     "output_type": "stream",
     "text": [
      "X_train shape: 3048 \t Y_train shape: 3048\n",
      "X_test shape: 339 \t Y_test shape: 339\n"
     ]
    }
   ],
   "source": [
    "# 划分训练集和数据集\n",
    "X_train, X_test, Y_train, Y_test = train_test_split(x, y, train_size=0.9, random_state=2021)\n",
    "print('X_train shape:', len(X_train), '\\t', 'Y_train shape:', len(Y_train))\n",
    "print('X_test shape:', len(X_test), '\\t', 'Y_test shape:', len(Y_test))"
   ],
   "metadata": {
    "collapsed": false,
    "pycharm": {
     "name": "#%%\n"
    }
   }
  },
  {
   "cell_type": "code",
   "execution_count": 4,
   "outputs": [
    {
     "name": "stdout",
     "output_type": "stream",
     "text": [
      "X_train shape: (3048, 4000) \t Y_train shape 3048\n",
      "X_test shape: (339, 4000) \t Y_test shape 339\n"
     ]
    }
   ],
   "source": [
    "# tf-idf 创建 Document-Term Matrix\n",
    "vectorizer = TfidfVectorizer(\n",
    "    ngram_range=(1,2),\n",
    "    min_df=5,\n",
    "    max_df=0.95,\n",
    "    max_features=4000,\n",
    "    sublinear_tf=True\n",
    ")\n",
    "X_train = vectorizer.fit_transform(X_train).toarray()\n",
    "X_test = vectorizer.transform(X_test).toarray()\n",
    "print('X_train shape:', X_train.shape, '\\t', 'Y_train shape', len(Y_train))\n",
    "print('X_test shape:', X_test.shape, '\\t', 'Y_test shape', len(Y_test))"
   ],
   "metadata": {
    "collapsed": false,
    "pycharm": {
     "name": "#%%\n"
    }
   }
  }
 ],
 "metadata": {
  "kernelspec": {
   "display_name": "Python 3",
   "language": "python",
   "name": "python3"
  },
  "language_info": {
   "codemirror_mode": {
    "name": "ipython",
    "version": 2
   },
   "file_extension": ".py",
   "mimetype": "text/x-python",
   "name": "python",
   "nbconvert_exporter": "python",
   "pygments_lexer": "ipython2",
   "version": "2.7.6"
  }
 },
 "nbformat": 4,
 "nbformat_minor": 0
}